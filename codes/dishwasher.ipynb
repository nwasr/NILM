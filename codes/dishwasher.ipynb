{
 "cells": [
  {
   "cell_type": "code",
   "execution_count": 1,
   "id": "18c1eb93",
   "metadata": {},
   "outputs": [],
   "source": [
    "import sys\n",
    "import data_loading\n",
    "import data_understanding\n",
    "import data_model\n",
    "import model_training\n",
    "import model_testing\n",
    "import data_ingestion\n",
    "import metrics"
   ]
  },
  {
   "cell_type": "code",
   "execution_count": 2,
   "id": "eda94d60",
   "metadata": {},
   "outputs": [
    {
     "data": {
      "text/plain": [
       "<module 'metrics' from 'c:\\\\Users\\\\admin\\\\Desktop\\\\ConvNILM-master\\\\ConvNILM-master\\\\metrics.py'>"
      ]
     },
     "execution_count": 2,
     "metadata": {},
     "output_type": "execute_result"
    }
   ],
   "source": [
    "# To Reload modules after updating them\n",
    "import importlib\n",
    "importlib.reload(data_loading)\n",
    "importlib.reload(data_understanding)\n",
    "importlib.reload(data_model)\n",
    "importlib.reload(model_training)\n",
    "importlib.reload(model_testing)\n",
    "importlib.reload(data_ingestion)\n",
    "importlib.reload(metrics)"
   ]
  },
  {
   "cell_type": "code",
   "execution_count": 3,
   "id": "1c8df1e9",
   "metadata": {},
   "outputs": [],
   "source": [
    "dishwasher_power = data_loading.read_csv_data(\"data/dishwasher_train.csv\")\n",
    "fridge_power = data_loading.read_csv_data('data/fridge_train.csv')\n",
    "main_power = data_loading.read_csv_data('data/main_train.csv')"
   ]
  },
  {
   "cell_type": "code",
   "execution_count": 5,
   "id": "a079ac6a",
   "metadata": {},
   "outputs": [
    {
     "name": "stdout",
     "output_type": "stream",
     "text": [
      "Data Loading...Done.\n",
      "Statistics of interest:\n",
      "Overall min power: 73.48100000000002, Overall max power: 6048.699999999999\n",
      "Overall mean power: 370.91555422946004, Overall std power: 549.1880538356259\n",
      "Min dishwasher power: 0.0, Max dishwasher power: 2570.6\n",
      "Mean dishwasher power: 25.87109798872012, Std dishwasher power: 238.58016099407692\n",
      "Zero padding...Done.\n",
      "Rescaling...Done.\n",
      "Preparing data ingestion...Done.\n",
      "Building model..."
     ]
    },
    {
     "name": "stderr",
     "output_type": "stream",
     "text": [
      "c:\\Users\\admin\\anaconda3\\Lib\\site-packages\\keras\\src\\layers\\convolutional\\base_conv.py:107: UserWarning: Do not pass an `input_shape`/`input_dim` argument to a layer. When using Sequential models, prefer using an `Input(shape)` object as the first layer in the model instead.\n",
      "  super().__init__(activity_regularizer=activity_regularizer, **kwargs)\n"
     ]
    },
    {
     "name": "stdout",
     "output_type": "stream",
     "text": [
      "Done.\n",
      "Model training...\n"
     ]
    },
    {
     "name": "stderr",
     "output_type": "stream",
     "text": [
      "c:\\Users\\admin\\anaconda3\\Lib\\site-packages\\keras\\src\\trainers\\data_adapters\\py_dataset_adapter.py:121: UserWarning: Your `PyDataset` class should call `super().__init__(**kwargs)` in its constructor. `**kwargs` can include `workers`, `use_multiprocessing`, `max_queue_size`. Do not pass these arguments to `fit()`, as they will be ignored.\n",
      "  self._warn_if_super_not_called()\n"
     ]
    },
    {
     "name": "stdout",
     "output_type": "stream",
     "text": [
      "Epoch 1/8\n",
      "\u001b[1m11880/11880\u001b[0m \u001b[32m━━━━━━━━━━━━━━━━━━━━\u001b[0m\u001b[37m\u001b[0m \u001b[1m1231s\u001b[0m 103ms/step - loss: 0.0092\n",
      "Epoch 2/8\n",
      "\u001b[1m11880/11880\u001b[0m \u001b[32m━━━━━━━━━━━━━━━━━━━━\u001b[0m\u001b[37m\u001b[0m \u001b[1m1109s\u001b[0m 93ms/step - loss: 0.0051\n",
      "Epoch 3/8\n",
      "\u001b[1m11880/11880\u001b[0m \u001b[32m━━━━━━━━━━━━━━━━━━━━\u001b[0m\u001b[37m\u001b[0m \u001b[1m1105s\u001b[0m 93ms/step - loss: 0.0050\n",
      "Epoch 4/8\n",
      "\u001b[1m11880/11880\u001b[0m \u001b[32m━━━━━━━━━━━━━━━━━━━━\u001b[0m\u001b[37m\u001b[0m \u001b[1m1105s\u001b[0m 93ms/step - loss: 0.0050\n",
      "Epoch 5/8\n",
      "\u001b[1m11880/11880\u001b[0m \u001b[32m━━━━━━━━━━━━━━━━━━━━\u001b[0m\u001b[37m\u001b[0m \u001b[1m1101s\u001b[0m 93ms/step - loss: 0.0049\n",
      "Epoch 6/8\n",
      "\u001b[1m11880/11880\u001b[0m \u001b[32m━━━━━━━━━━━━━━━━━━━━\u001b[0m\u001b[37m\u001b[0m \u001b[1m1101s\u001b[0m 93ms/step - loss: 0.0049\n",
      "Epoch 7/8\n",
      "\u001b[1m11880/11880\u001b[0m \u001b[32m━━━━━━━━━━━━━━━━━━━━\u001b[0m\u001b[37m\u001b[0m \u001b[1m1098s\u001b[0m 92ms/step - loss: 0.0049\n",
      "Epoch 8/8\n",
      "\u001b[1m11880/11880\u001b[0m \u001b[32m━━━━━━━━━━━━━━━━━━━━\u001b[0m\u001b[37m\u001b[0m \u001b[1m1089s\u001b[0m 92ms/step - loss: 0.0049\n",
      "Training completed.\n"
     ]
    },
    {
     "data": {
      "image/png": "[encoded data removed]",
      "text/plain": [
       "<Figure size 640x480 with 1 Axes>"
      ]
     },
     "metadata": {},
     "output_type": "display_data"
    }
   ],
   "source": [
    "model = model_training.train_model(appliance_name='dishwasher',\n",
    "                                   main_path='data/main_train.csv',\n",
    "                                   appliance_path='data/dishwasher_train.csv',\n",
    "                                   window_size=600,\n",
    "                                   batch_size=512,\n",
    "                                   build_model_func=data_model.build_dishwasher_cnn,\n",
    "                                   epochs=8,\n",
    "                                   rescaling='normalize')"
   ]
  },
  {
   "cell_type": "code",
   "execution_count": 6,
   "id": "23e95293",
   "metadata": {},
   "outputs": [],
   "source": [
    "model.save('dishwasher_model.keras')"
   ]
  },
  {
   "cell_type": "code",
   "execution_count": 8,
   "id": "bb892bdc",
   "metadata": {},
   "outputs": [
    {
     "name": "stdout",
     "output_type": "stream",
     "text": [
      "Data Loading...Done.\n",
      "Zero padding...Done.\n",
      "Rescaling...Done.\n",
      "Preparing data ingestion...Done.\n",
      "\u001b[1m    4/11880\u001b[0m \u001b[37m━━━━━━━━━━━━━━━━━━━━\u001b[0m \u001b[1m3:57\u001b[0m 20ms/step "
     ]
    },
    {
     "name": "stderr",
     "output_type": "stream",
     "text": [
      "c:\\Users\\admin\\anaconda3\\Lib\\site-packages\\keras\\src\\trainers\\data_adapters\\py_dataset_adapter.py:121: UserWarning: Your `PyDataset` class should call `super().__init__(**kwargs)` in its constructor. `**kwargs` can include `workers`, `use_multiprocessing`, `max_queue_size`. Do not pass these arguments to `fit()`, as they will be ignored.\n",
      "  self._warn_if_super_not_called()\n"
     ]
    },
    {
     "name": "stdout",
     "output_type": "stream",
     "text": [
      "\u001b[1m11880/11880\u001b[0m \u001b[32m━━━━━━━━━━━━━━━━━━━━\u001b[0m\u001b[37m\u001b[0m \u001b[1m189s\u001b[0m 16ms/step\n",
      "Done.\n"
     ]
    }
   ],
   "source": [
    "ground_truth, predicted_values = model_testing.test_model(appliance_name='dishwasher',\n",
    "                                                          main_path='data/main_train.csv',\n",
    "                                                          appliance_path='data/dishwasher_train.csv',\n",
    "                                                          model_path='dishwasher_model.keras',\n",
    "                                                          window_size=600,\n",
    "                                                          batch_size=512,\n",
    "                                                          rescaling='normalize',\n",
    "                                                          appliance_min_power=0.0,\n",
    "                                                          appliance_max_power=2570.6,\n",
    "                                                          main_min_power=73.48100000000002,\n",
    "                                                          main_max_power=6048.699999999999)"
   ]
  },
  {
   "cell_type": "code",
   "execution_count": 9,
   "id": "5f14a2ae",
   "metadata": {},
   "outputs": [
    {
     "name": "stdout",
     "output_type": "stream",
     "text": [
      "Energy based F1 score on test set: [0.98735714]\n"
     ]
    }
   ],
   "source": [
    "f1 = metrics.compute_F1_score(predicted_values, ground_truth)\n",
    "print('Energy based F1 score on test set: {}'.format(f1))"
   ]
  },
  {
   "cell_type": "code",
   "execution_count": null,
   "id": "52a21ec8",
   "metadata": {},
   "outputs": [],
   "source": []
  }
 ],
 "metadata": {
  "kernelspec": {
   "display_name": "base",
   "language": "python",
   "name": "python3"
  },
  "language_info": {
   "codemirror_mode": {
    "name": "ipython",
    "version": 3
   },
   "file_extension": ".py",
   "mimetype": "text/x-python",
   "name": "python",
   "nbconvert_exporter": "python",
   "pygments_lexer": "ipython3",
   "version": "3.12.7"
  }
 },
 "nbformat": 4,
 "nbformat_minor": 5
}
